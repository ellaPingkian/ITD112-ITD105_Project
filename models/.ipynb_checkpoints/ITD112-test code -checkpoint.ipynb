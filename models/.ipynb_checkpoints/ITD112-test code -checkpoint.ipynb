{
 "cells": [
  {
   "cell_type": "code",
   "execution_count": 3,
   "metadata": {},
   "outputs": [],
   "source": [
    "import pandas as pd\n",
    "import numpy as np\n",
    "\n"
   ]
  },
  {
   "cell_type": "code",
   "execution_count": 4,
   "metadata": {},
   "outputs": [
    {
     "name": "stderr",
     "output_type": "stream",
     "text": [
      "C:\\Anaconda\\lib\\site-packages\\IPython\\core\\interactiveshell.py:3071: DtypeWarning: Columns (0,3,7,8) have mixed types.Specify dtype option on import or set low_memory=False.\n",
      "  has_raised = await self.run_ast_nodes(code_ast.body, cell_name,\n"
     ]
    },
    {
     "data": {
      "text/html": [
       "<div>\n",
       "<style scoped>\n",
       "    .dataframe tbody tr th:only-of-type {\n",
       "        vertical-align: middle;\n",
       "    }\n",
       "\n",
       "    .dataframe tbody tr th {\n",
       "        vertical-align: top;\n",
       "    }\n",
       "\n",
       "    .dataframe thead th {\n",
       "        text-align: right;\n",
       "    }\n",
       "</style>\n",
       "<table border=\"1\" class=\"dataframe\">\n",
       "  <thead>\n",
       "    <tr style=\"text-align: right;\">\n",
       "      <th></th>\n",
       "      <th>loc</th>\n",
       "      <th>cases</th>\n",
       "      <th>deaths</th>\n",
       "      <th>mdy</th>\n",
       "      <th>m</th>\n",
       "      <th>d</th>\n",
       "      <th>y</th>\n",
       "      <th>date</th>\n",
       "      <th>Region</th>\n",
       "    </tr>\n",
       "  </thead>\n",
       "  <tbody>\n",
       "    <tr>\n",
       "      <th>0</th>\n",
       "      <td>ALBAY</td>\n",
       "      <td>15.0</td>\n",
       "      <td>0.0</td>\n",
       "      <td>1/10/2016</td>\n",
       "      <td>1.0</td>\n",
       "      <td>10.0</td>\n",
       "      <td>2016.0</td>\n",
       "      <td>1/10/2016</td>\n",
       "      <td>REGION V-BICOL REGION</td>\n",
       "    </tr>\n",
       "    <tr>\n",
       "      <th>1</th>\n",
       "      <td>ALBAY</td>\n",
       "      <td>13.0</td>\n",
       "      <td>0.0</td>\n",
       "      <td>1/17/2016</td>\n",
       "      <td>1.0</td>\n",
       "      <td>17.0</td>\n",
       "      <td>2016.0</td>\n",
       "      <td>1/17/2016</td>\n",
       "      <td>REGION V-BICOL REGION</td>\n",
       "    </tr>\n",
       "    <tr>\n",
       "      <th>2</th>\n",
       "      <td>ALBAY</td>\n",
       "      <td>9.0</td>\n",
       "      <td>0.0</td>\n",
       "      <td>1/24/2016</td>\n",
       "      <td>1.0</td>\n",
       "      <td>24.0</td>\n",
       "      <td>2016.0</td>\n",
       "      <td>1/24/2016</td>\n",
       "      <td>REGION V-BICOL REGION</td>\n",
       "    </tr>\n",
       "    <tr>\n",
       "      <th>3</th>\n",
       "      <td>ALBAY</td>\n",
       "      <td>14.0</td>\n",
       "      <td>0.0</td>\n",
       "      <td>1/31/2016</td>\n",
       "      <td>1.0</td>\n",
       "      <td>31.0</td>\n",
       "      <td>2016.0</td>\n",
       "      <td>1/31/2016</td>\n",
       "      <td>REGION V-BICOL REGION</td>\n",
       "    </tr>\n",
       "    <tr>\n",
       "      <th>4</th>\n",
       "      <td>ALBAY</td>\n",
       "      <td>9.0</td>\n",
       "      <td>0.0</td>\n",
       "      <td>2/07/2016</td>\n",
       "      <td>2.0</td>\n",
       "      <td>7.0</td>\n",
       "      <td>2016.0</td>\n",
       "      <td>2/7/2016</td>\n",
       "      <td>REGION V-BICOL REGION</td>\n",
       "    </tr>\n",
       "    <tr>\n",
       "      <th>...</th>\n",
       "      <td>...</td>\n",
       "      <td>...</td>\n",
       "      <td>...</td>\n",
       "      <td>...</td>\n",
       "      <td>...</td>\n",
       "      <td>...</td>\n",
       "      <td>...</td>\n",
       "      <td>...</td>\n",
       "      <td>...</td>\n",
       "    </tr>\n",
       "    <tr>\n",
       "      <th>1048570</th>\n",
       "      <td>NaN</td>\n",
       "      <td>NaN</td>\n",
       "      <td>NaN</td>\n",
       "      <td>NaN</td>\n",
       "      <td>NaN</td>\n",
       "      <td>NaN</td>\n",
       "      <td>NaN</td>\n",
       "      <td>NaN</td>\n",
       "      <td>NaN</td>\n",
       "    </tr>\n",
       "    <tr>\n",
       "      <th>1048571</th>\n",
       "      <td>NaN</td>\n",
       "      <td>NaN</td>\n",
       "      <td>NaN</td>\n",
       "      <td>NaN</td>\n",
       "      <td>NaN</td>\n",
       "      <td>NaN</td>\n",
       "      <td>NaN</td>\n",
       "      <td>NaN</td>\n",
       "      <td>NaN</td>\n",
       "    </tr>\n",
       "    <tr>\n",
       "      <th>1048572</th>\n",
       "      <td>NaN</td>\n",
       "      <td>NaN</td>\n",
       "      <td>NaN</td>\n",
       "      <td>NaN</td>\n",
       "      <td>NaN</td>\n",
       "      <td>NaN</td>\n",
       "      <td>NaN</td>\n",
       "      <td>NaN</td>\n",
       "      <td>NaN</td>\n",
       "    </tr>\n",
       "    <tr>\n",
       "      <th>1048573</th>\n",
       "      <td>NaN</td>\n",
       "      <td>NaN</td>\n",
       "      <td>NaN</td>\n",
       "      <td>NaN</td>\n",
       "      <td>NaN</td>\n",
       "      <td>NaN</td>\n",
       "      <td>NaN</td>\n",
       "      <td>NaN</td>\n",
       "      <td>NaN</td>\n",
       "    </tr>\n",
       "    <tr>\n",
       "      <th>1048574</th>\n",
       "      <td>NaN</td>\n",
       "      <td>NaN</td>\n",
       "      <td>NaN</td>\n",
       "      <td>NaN</td>\n",
       "      <td>NaN</td>\n",
       "      <td>NaN</td>\n",
       "      <td>NaN</td>\n",
       "      <td>NaN</td>\n",
       "      <td>NaN</td>\n",
       "    </tr>\n",
       "  </tbody>\n",
       "</table>\n",
       "<p>1048575 rows × 9 columns</p>\n",
       "</div>"
      ],
      "text/plain": [
       "           loc  cases  deaths        mdy    m     d       y       date  \\\n",
       "0        ALBAY   15.0     0.0  1/10/2016  1.0  10.0  2016.0  1/10/2016   \n",
       "1        ALBAY   13.0     0.0  1/17/2016  1.0  17.0  2016.0  1/17/2016   \n",
       "2        ALBAY    9.0     0.0  1/24/2016  1.0  24.0  2016.0  1/24/2016   \n",
       "3        ALBAY   14.0     0.0  1/31/2016  1.0  31.0  2016.0  1/31/2016   \n",
       "4        ALBAY    9.0     0.0  2/07/2016  2.0   7.0  2016.0   2/7/2016   \n",
       "...        ...    ...     ...        ...  ...   ...     ...        ...   \n",
       "1048570    NaN    NaN     NaN        NaN  NaN   NaN     NaN        NaN   \n",
       "1048571    NaN    NaN     NaN        NaN  NaN   NaN     NaN        NaN   \n",
       "1048572    NaN    NaN     NaN        NaN  NaN   NaN     NaN        NaN   \n",
       "1048573    NaN    NaN     NaN        NaN  NaN   NaN     NaN        NaN   \n",
       "1048574    NaN    NaN     NaN        NaN  NaN   NaN     NaN        NaN   \n",
       "\n",
       "                        Region  \n",
       "0        REGION V-BICOL REGION  \n",
       "1        REGION V-BICOL REGION  \n",
       "2        REGION V-BICOL REGION  \n",
       "3        REGION V-BICOL REGION  \n",
       "4        REGION V-BICOL REGION  \n",
       "...                        ...  \n",
       "1048570                    NaN  \n",
       "1048571                    NaN  \n",
       "1048572                    NaN  \n",
       "1048573                    NaN  \n",
       "1048574                    NaN  \n",
       "\n",
       "[1048575 rows x 9 columns]"
      ]
     },
     "execution_count": 4,
     "metadata": {},
     "output_type": "execute_result"
    }
   ],
   "source": [
    "data = pd.read_csv('C:\\\\Users\\\\Ella\\\\Documents\\\\ELLA PINGKIAN\\\\4.1\\\\ITD112\\\\ITD112Project\\\\static\\\\dataset\\\\doh-epi-dengue-data-2016-2021.csv')\n",
    "data"
   ]
  },
  {
   "cell_type": "code",
   "execution_count": 5,
   "metadata": {},
   "outputs": [
    {
     "data": {
      "text/plain": [
       "loc       1015874\n",
       "cases     1015874\n",
       "deaths    1015874\n",
       "mdy       1015874\n",
       "m         1015874\n",
       "d         1015874\n",
       "y         1015874\n",
       "date      1015874\n",
       "Region    1015874\n",
       "dtype: int64"
      ]
     },
     "execution_count": 5,
     "metadata": {},
     "output_type": "execute_result"
    }
   ],
   "source": [
    "data.isnull().sum()"
   ]
  },
  {
   "cell_type": "code",
   "execution_count": 6,
   "metadata": {},
   "outputs": [
    {
     "data": {
      "text/plain": [
       "loc       0\n",
       "cases     0\n",
       "deaths    0\n",
       "mdy       0\n",
       "m         0\n",
       "d         0\n",
       "y         0\n",
       "date      0\n",
       "Region    0\n",
       "dtype: int64"
      ]
     },
     "execution_count": 6,
     "metadata": {},
     "output_type": "execute_result"
    }
   ],
   "source": [
    "cdata = data.dropna()\n",
    "cdata.isnull().sum()"
   ]
  },
  {
   "cell_type": "markdown",
   "metadata": {},
   "source": [
    "## EDA "
   ]
  },
  {
   "cell_type": "code",
   "execution_count": 8,
   "metadata": {},
   "outputs": [
    {
     "data": {
      "text/html": [
       "<div>\n",
       "<style scoped>\n",
       "    .dataframe tbody tr th:only-of-type {\n",
       "        vertical-align: middle;\n",
       "    }\n",
       "\n",
       "    .dataframe tbody tr th {\n",
       "        vertical-align: top;\n",
       "    }\n",
       "\n",
       "    .dataframe thead th {\n",
       "        text-align: right;\n",
       "    }\n",
       "</style>\n",
       "<table border=\"1\" class=\"dataframe\">\n",
       "  <thead>\n",
       "    <tr style=\"text-align: right;\">\n",
       "      <th></th>\n",
       "      <th>cases</th>\n",
       "      <th>deaths</th>\n",
       "    </tr>\n",
       "  </thead>\n",
       "  <tbody>\n",
       "    <tr>\n",
       "      <th>count</th>\n",
       "      <td>32701.000000</td>\n",
       "      <td>32701.000000</td>\n",
       "    </tr>\n",
       "    <tr>\n",
       "      <th>mean</th>\n",
       "      <td>35.152197</td>\n",
       "      <td>0.515336</td>\n",
       "    </tr>\n",
       "    <tr>\n",
       "      <th>std</th>\n",
       "      <td>78.415109</td>\n",
       "      <td>4.900819</td>\n",
       "    </tr>\n",
       "    <tr>\n",
       "      <th>min</th>\n",
       "      <td>0.000000</td>\n",
       "      <td>0.000000</td>\n",
       "    </tr>\n",
       "    <tr>\n",
       "      <th>25%</th>\n",
       "      <td>3.000000</td>\n",
       "      <td>0.000000</td>\n",
       "    </tr>\n",
       "    <tr>\n",
       "      <th>50%</th>\n",
       "      <td>12.000000</td>\n",
       "      <td>0.000000</td>\n",
       "    </tr>\n",
       "    <tr>\n",
       "      <th>75%</th>\n",
       "      <td>36.000000</td>\n",
       "      <td>0.000000</td>\n",
       "    </tr>\n",
       "    <tr>\n",
       "      <th>max</th>\n",
       "      <td>3382.000000</td>\n",
       "      <td>205.000000</td>\n",
       "    </tr>\n",
       "  </tbody>\n",
       "</table>\n",
       "</div>"
      ],
      "text/plain": [
       "              cases        deaths\n",
       "count  32701.000000  32701.000000\n",
       "mean      35.152197      0.515336\n",
       "std       78.415109      4.900819\n",
       "min        0.000000      0.000000\n",
       "25%        3.000000      0.000000\n",
       "50%       12.000000      0.000000\n",
       "75%       36.000000      0.000000\n",
       "max     3382.000000    205.000000"
      ]
     },
     "execution_count": 8,
     "metadata": {},
     "output_type": "execute_result"
    }
   ],
   "source": [
    "cdata[['cases', 'deaths']].describe()"
   ]
  },
  {
   "cell_type": "code",
   "execution_count": 13,
   "metadata": {},
   "outputs": [
    {
     "name": "stdout",
     "output_type": "stream",
     "text": [
      "<class 'pandas.core.frame.DataFrame'>\n",
      "Int64Index: 32701 entries, 0 to 32700\n",
      "Data columns (total 9 columns):\n",
      " #   Column  Non-Null Count  Dtype  \n",
      "---  ------  --------------  -----  \n",
      " 0   loc     32701 non-null  object \n",
      " 1   cases   32701 non-null  float64\n",
      " 2   deaths  32701 non-null  float64\n",
      " 3   mdy     32701 non-null  object \n",
      " 4   m       32701 non-null  float64\n",
      " 5   d       32701 non-null  float64\n",
      " 6   y       32701 non-null  float64\n",
      " 7   date    32701 non-null  object \n",
      " 8   Region  32701 non-null  object \n",
      "dtypes: float64(5), object(4)\n",
      "memory usage: 2.5+ MB\n"
     ]
    },
    {
     "data": {
      "text/plain": [
       "(32701, 9)"
      ]
     },
     "execution_count": 13,
     "metadata": {},
     "output_type": "execute_result"
    }
   ],
   "source": [
    "cdata.info()\n",
    "cdata.shape"
   ]
  },
  {
   "cell_type": "code",
   "execution_count": 14,
   "metadata": {},
   "outputs": [
    {
     "data": {
      "text/plain": [
       "35.15219718051436"
      ]
     },
     "execution_count": 14,
     "metadata": {},
     "output_type": "execute_result"
    }
   ],
   "source": [
    "cdata['cases'].mean()"
   ]
  },
  {
   "cell_type": "markdown",
   "metadata": {},
   "source": [
    "## Functions"
   ]
  },
  {
   "cell_type": "code",
   "execution_count": 45,
   "metadata": {
    "scrolled": true
   },
   "outputs": [
    {
     "name": "stdout",
     "output_type": "stream",
     "text": [
      "['0.83%', '0.37%', '0.43%', '0.4%', '0.26%', '0.42%', '1.55%', '1.59%', '1.13%', '1.11%', '1.03%', '1.18%', '3.29%', '2.74%', '2.88%', '3.45%', '4.67%']\n"
     ]
    }
   ],
   "source": [
    "reg = cdata['Region'].unique()\n",
    "# print(reg)\n",
    "\n",
    "reg_dict = []\n",
    "dsum_lst = []\n",
    "csum_lst = []\n",
    "mrate_lst = []\n",
    "sorted_mrate = []\n",
    "\n",
    "for i in reg:\n",
    "    reg_dict.append(i)\n",
    "    dsum = int(cdata[(cdata['Region'] == i)][[\"deaths\"]].sum())       #sum of all deaths per region\n",
    "    csum = int(cdata[(cdata['Region'] == i)][[\"cases\"]].sum())        #sum of all cases per region\n",
    "#     print(i, \" - \", \" cases recorded:\", csum, \"       \", \"death recorded:\", dsum)\n",
    "    dsum_lst.append(dsum)\n",
    "    csum_lst.append(csum)\n",
    "    \n",
    "#     mortality rate\n",
    "\n",
    "    if csum == 0:\n",
    "        mrate = 0\n",
    "    else:\n",
    "        mrate = round((dsum/csum)*100, 2)\n",
    "        mrate = str(str(mrate) + \"%\")\n",
    "        mrate_lst.append(mrate)\n",
    "#         print(i, \"mortality rate: \", rmrate , \"%\")\n",
    "\n",
    "print(mrate_lst)\n",
    "    \n",
    "# print(str(reg_dict))\n",
    "# print(str(csum_lst))\n",
    "    \n"
   ]
  },
  {
   "cell_type": "code",
   "execution_count": null,
   "metadata": {},
   "outputs": [],
   "source": []
  },
  {
   "cell_type": "code",
   "execution_count": 4,
   "metadata": {},
   "outputs": [
    {
     "name": "stdout",
     "output_type": "stream",
     "text": [
      "['ALBAY' 'ANGELES CITY' 'AURORA' 'BATAAN' 'BATANES' 'BATANGAS' 'BULACAN'\n",
      " 'CAGAYAN' 'CAMARINES NORTE' 'CAMARINES SUR' 'CATANDUANES' 'CAVITE'\n",
      " 'DAGUPAN CITY' 'ILOCOS NORTE' 'ILOCOS SUR' 'ISABELA' 'LA UNION' 'LAGUNA'\n",
      " 'LUCENA CITY' 'MARINDUQUE' 'MASBATE' 'NAGA CITY' 'NUEVA ECIJA'\n",
      " 'NUEVA VISCAYA' 'OCCIDENTAL MINDORO' 'OLONGAPO CITY' 'ORIENTAL MINDORO'\n",
      " 'PALAWAN' 'PAMPANGA' 'PANGASINAN' 'PUERTO PRINCESA CITY' 'QUEZON'\n",
      " 'QUIRINO' 'RIZAL' 'ROMBLON' 'SANTIAGO CITY' 'SORSOGON' 'TARLAC'\n",
      " 'ZAMBALES' 'AKLAN' 'ANTIQUE' 'BACOLOD CITY' 'CAPIZ' 'GUIMARAS' 'ILOILO'\n",
      " 'ILOILO CITY' 'NEGROS OCCIDENTAL' 'BOHOL' 'CEBU' 'CEBU CITY'\n",
      " 'LAPU-LAPU CITY' 'MANDAUE CITY' ' NEGROS ORIENTAL' 'SISQUIJOR' 'BILIRAN'\n",
      " 'EASTERN SAMAR' 'LEYTE' 'NORTHERN SAMAR' 'ORMOC CITY' 'SAMAR'\n",
      " 'SOUTHERN LEYTE' 'TACLOBAN' 'ISABELA CITY' 'ZAMBOANGA CITY'\n",
      " 'ZAMBOANGA DEL NORTE' 'ZAMBOANGA DEL SUR' 'ZAMBOANGA SIBUGAY' 'BUKIDNON'\n",
      " ' CAGAYAN DE ORO CITY' 'CAMIGUIN' 'ILIGAN CITY' 'LANAO DEL NORTE'\n",
      " 'MISAMIS OCCIDENTAL' 'MISAMIS ORIENTAL' 'DAVAO CITY' 'DAVAO DE ORO'\n",
      " 'DAVAO DEL NORTE' 'DAVAO DEL SUR' 'DAVAO ORIENTAL' 'ABRA'\n",
      " 'AGUSAN DEL NORTE' 'AGUSAN DEL SUR' 'APAYAO' 'BAGUIO CITY' 'BASILAN'\n",
      " 'BASILIG CITY' 'BAYUGAN CITY' 'BENGUET' 'BUTUAN CITY' 'CABADBARAN CITY'\n",
      " 'CALOOCAN CITY' 'COTABATO CITY' 'DINAGAT ISLANDS' 'GENERAL SANTOS CITY'\n",
      " 'IFUGAO' 'KALINGA' 'LANAO DEL SUR' 'LAS PINAS CITY' 'MAGUINDANAO'\n",
      " 'MAKATI CITY' 'MALABON CITY' 'MANDALUYONG CITY' 'MANILA CITY'\n",
      " 'MARIKINA CITY' 'MOUNTAIN PROVINCE' 'MUNTINLUPA CITY' 'NAVOTAS CITY'\n",
      " 'NORTH COTABATO' 'PARANAQUE CITY' 'PASAY CITY' 'PASIG CITY' 'PATEROS'\n",
      " 'QUEZON CITY' 'SAN JUAN CITY' 'SARANGANI' 'SOUTH COTABATO'\n",
      " 'SULTAN KUDARAT' 'SULU' 'SURIGAO CITY' 'SURIGAO DEL NORTE'\n",
      " 'SURIGAO DEL SUR' 'TAGUIG CITY' 'TANDAG CITY' 'TAWI-TAWI'\n",
      " 'VALENZUELA CITY' 'DAVAO OCCIDENTAL' nan]\n"
     ]
    }
   ],
   "source": [
    "loc = data['loc'].unique()\n",
    "print(loc)"
   ]
  },
  {
   "cell_type": "code",
   "execution_count": 5,
   "metadata": {},
   "outputs": [
    {
     "name": "stdout",
     "output_type": "stream",
     "text": [
      "2016 :  8127 3.88%\n",
      "2017 :  4563 2.96%\n",
      "2018 :  1226 0.49%\n",
      "2019 :  1733 0.39%\n",
      "2020 :  1195 1.31%\n",
      "2021 :  8 0.38%\n",
      "Total deaths 2016-2021: 16852\n",
      "Total cases 2016-2021: 1149512\n"
     ]
    }
   ],
   "source": [
    "# 2. Line graph - reported dengue cases in the Philippines (col2, r2\n",
    "# Options: By year\n",
    "\n",
    "reg_dict\n",
    "\n",
    "from datetime import date, datetime, timedelta\n",
    "data['date'] = pd.to_datetime(data['date'], format=\"%m/%d/%Y\")\n",
    "\n",
    "#scraping unique years from dataset\n",
    "year_lst = []\n",
    "deaths_pY = []\n",
    "cases_pY = []\n",
    "ymrate_lst = []\n",
    "cdata = data.dropna()                           # droping null value in dataset\n",
    "years = cdata['date'].dt.year.unique()          # unique list of years\n",
    "\n",
    "for i in years:\n",
    "    dPy = int(cdata[(cdata['date'].dt.year == i)][[\"deaths\"]].sum())              # deaths per year\n",
    "    deaths_pY.append(dPy)\n",
    "    cPy = int(cdata[(cdata['date'].dt.year == i)][[\"cases\"]].sum())              # deaths per year\n",
    "    cases_pY.append(cPy)\n",
    "    ymrate = round((dPy/cPy)*100, 2)\n",
    "    ymrate = str(str(ymrate) + \"%\")\n",
    "    ymrate_lst.append(ymrate)\n",
    "    \n",
    "    print(i, \": \", dPy, ymrate)\n",
    "    \n",
    "print(\"Total deaths 2016-2021:\", sum(deaths_pY))\n",
    "print(\"Total cases 2016-2021:\", sum(cases_pY))\n",
    "\n",
    "\n",
    "\n",
    "    \n",
    "#     for j in reg_dict:\n",
    "# #         print(reg_dict[j])\n",
    "#         cdata[[\"Region\"]].loc[[j]]\n",
    "#         ss = cdata[(cdata['date'].dt.year == i)][[\"deaths\"]].loc[[\"cdata['Region'] == j\"]]\n",
    "    \n",
    "    \n",
    "\n",
    "# print(ymrate_lst)\n",
    "\n",
    "# loc = cdata['loc'].unique()\n"
   ]
  },
  {
   "cell_type": "code",
   "execution_count": 9,
   "metadata": {},
   "outputs": [],
   "source": [
    "# data2 = pd.read_csv('C:\\\\Users\\\\Ella\\\\Documents\\\\ELLA PINGKIAN\\\\4.1\\\\ITD112\\\\ITD112Project\\\\static\\\\dataset\\\\earthquake-1965-2016.csv')\n",
    "\n",
    "# # wdata = data2.dropna()\n",
    "# data2"
   ]
  },
  {
   "cell_type": "code",
   "execution_count": 10,
   "metadata": {},
   "outputs": [],
   "source": [
    "# data2['Date'] = pd.to_datetime(data2['Date'], format=\"%m/%d/%Y\")\n",
    "\n",
    "# data2['Date'].dt.year.unique()\n",
    "\n",
    "# data2['Magnitude Type'].unique()\n",
    "\n"
   ]
  }
 ],
 "metadata": {
  "kernelspec": {
   "display_name": "Python 3",
   "language": "python",
   "name": "python3"
  },
  "language_info": {
   "codemirror_mode": {
    "name": "ipython",
    "version": 3
   },
   "file_extension": ".py",
   "mimetype": "text/x-python",
   "name": "python",
   "nbconvert_exporter": "python",
   "pygments_lexer": "ipython3",
   "version": "3.8.3"
  },
  "vscode": {
   "interpreter": {
    "hash": "7562c47f3b153ca236cf4bfebd845b75785fb45fc2d2494eba90699b3f6d0187"
   }
  }
 },
 "nbformat": 4,
 "nbformat_minor": 4
}
